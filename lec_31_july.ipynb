{
  "nbformat": 4,
  "nbformat_minor": 0,
  "metadata": {
    "colab": {
      "provenance": []
    },
    "kernelspec": {
      "name": "python3",
      "display_name": "Python 3"
    },
    "language_info": {
      "name": "python"
    }
  },
  "cells": [
    {
      "cell_type": "code",
      "execution_count": null,
      "metadata": {
        "colab": {
          "base_uri": "https://localhost:8080/"
        },
        "id": "kEiZQuFNxgq0",
        "outputId": "8b2bef19-aed5-49b2-da8d-dd77d244c2aa"
      },
      "outputs": [
        {
          "output_type": "stream",
          "name": "stdout",
          "text": [
            "6\n"
          ]
        }
      ],
      "source": [
        "fruit = 'banana'\n",
        "print(len(fruit))"
      ]
    },
    {
      "cell_type": "code",
      "source": [],
      "metadata": {
        "id": "-HP7kHwl9hWG"
      },
      "execution_count": null,
      "outputs": []
    },
    {
      "cell_type": "code",
      "source": [],
      "metadata": {
        "id": "h-w_jh0b4axE"
      },
      "execution_count": null,
      "outputs": []
    },
    {
      "cell_type": "code",
      "source": [],
      "metadata": {
        "id": "1pms5eF4F2Kx"
      },
      "execution_count": null,
      "outputs": []
    },
    {
      "cell_type": "code",
      "source": [
        "fruit = 'banana'\n",
        "index = 0\n",
        "while index < len(fruit):\n",
        "  letter = fruit[index]\n",
        "  print(index, letter)\n",
        "  index = index + 1"
      ],
      "metadata": {
        "colab": {
          "base_uri": "https://localhost:8080/"
        },
        "id": "rPNT95Beyvwb",
        "outputId": "172644a4-ba9e-4e94-aea8-0a4a60b53975"
      },
      "execution_count": null,
      "outputs": [
        {
          "output_type": "stream",
          "name": "stdout",
          "text": [
            "0 b\n",
            "1 a\n",
            "2 n\n",
            "3 a\n",
            "4 n\n",
            "5 a\n"
          ]
        }
      ]
    },
    {
      "cell_type": "code",
      "source": [
        "fruit = \"ritik\"\n",
        "\n",
        "for index in range(len(fruit)):\n",
        "    print(f\"Index {index}: {fruit[index]}\")\n"
      ],
      "metadata": {
        "colab": {
          "base_uri": "https://localhost:8080/"
        },
        "id": "xLDBTlvRz3oH",
        "outputId": "633d063f-20f6-4812-aeb9-b14d0767b587"
      },
      "execution_count": null,
      "outputs": [
        {
          "output_type": "stream",
          "name": "stdout",
          "text": [
            "Index 0: r\n",
            "Index 1: i\n",
            "Index 2: t\n",
            "Index 3: i\n",
            "Index 4: k\n"
          ]
        }
      ]
    },
    {
      "cell_type": "code",
      "source": [
        "fruit = 'ritik'\n",
        "for letter in fruit:\n",
        "  print(letter)"
      ],
      "metadata": {
        "colab": {
          "base_uri": "https://localhost:8080/"
        },
        "id": "Wusfc4q41BUs",
        "outputId": "a0f8c298-3b69-4cb5-a0e0-f2665f32660b"
      },
      "execution_count": null,
      "outputs": [
        {
          "output_type": "stream",
          "name": "stdout",
          "text": [
            "r\n",
            "i\n",
            "t\n",
            "i\n",
            "k\n"
          ]
        }
      ]
    },
    {
      "cell_type": "code",
      "source": [
        "word = 'ritik'\n",
        "count = 0\n",
        "for letter in word :\n",
        "  if letter == 'i':\n",
        "    count = count + 1\n",
        "print(count)"
      ],
      "metadata": {
        "colab": {
          "base_uri": "https://localhost:8080/"
        },
        "id": "QyU79xVY2OXi",
        "outputId": "5238bea5-9c55-4667-9ac5-63cae6a64501"
      },
      "execution_count": null,
      "outputs": [
        {
          "output_type": "stream",
          "name": "stdout",
          "text": [
            "2\n"
          ]
        }
      ]
    },
    {
      "cell_type": "code",
      "source": [
        "s = 'ritik python'\n",
        "print(s[:2])\n",
        "print(s[8:])\n",
        "print(s[:])"
      ],
      "metadata": {
        "colab": {
          "base_uri": "https://localhost:8080/"
        },
        "id": "_UnFNXDc3fqE",
        "outputId": "40fc90a0-e1e6-49c0-ac31-d3daf65b27bf"
      },
      "execution_count": null,
      "outputs": [
        {
          "output_type": "stream",
          "name": "stdout",
          "text": [
            "ri\n",
            "thon\n",
            "ritik python\n"
          ]
        }
      ]
    },
    {
      "cell_type": "code",
      "source": [
        "fruit = 'banana'\n",
        "'n' in fruit"
      ],
      "metadata": {
        "colab": {
          "base_uri": "https://localhost:8080/"
        },
        "id": "q3fkQC-T4Wru",
        "outputId": "a0a26215-1dd4-42ae-c140-18f679d42722"
      },
      "execution_count": null,
      "outputs": [
        {
          "output_type": "execute_result",
          "data": {
            "text/plain": [
              "True"
            ]
          },
          "metadata": {},
          "execution_count": 26
        }
      ]
    },
    {
      "cell_type": "code",
      "source": [
        "'m' in fruit"
      ],
      "metadata": {
        "colab": {
          "base_uri": "https://localhost:8080/"
        },
        "id": "3q_If_EO4gwl",
        "outputId": "c4a9b0c1-21ba-4e46-fcbd-f5254aeb0490"
      },
      "execution_count": null,
      "outputs": [
        {
          "output_type": "execute_result",
          "data": {
            "text/plain": [
              "False"
            ]
          },
          "metadata": {},
          "execution_count": 27
        }
      ]
    },
    {
      "cell_type": "code",
      "source": [],
      "metadata": {
        "id": "5XsVgtbS5xWd"
      },
      "execution_count": null,
      "outputs": []
    },
    {
      "cell_type": "code",
      "source": [
        "'nan' in fruit"
      ],
      "metadata": {
        "colab": {
          "base_uri": "https://localhost:8080/"
        },
        "id": "UiAteqyR4laR",
        "outputId": "d469399b-660e-4c49-f315-23dff5a2fecc"
      },
      "execution_count": null,
      "outputs": [
        {
          "output_type": "execute_result",
          "data": {
            "text/plain": [
              "True"
            ]
          },
          "metadata": {},
          "execution_count": 28
        }
      ]
    },
    {
      "cell_type": "code",
      "source": [
        "if 'a' in fruit :\n",
        "  print('Found it!')"
      ],
      "metadata": {
        "colab": {
          "base_uri": "https://localhost:8080/"
        },
        "id": "95YKYP1n4qnQ",
        "outputId": "27d11e17-f60e-43dc-c2f5-248edc4a1c38"
      },
      "execution_count": null,
      "outputs": [
        {
          "output_type": "stream",
          "name": "stdout",
          "text": [
            "Found it!\n"
          ]
        }
      ]
    },
    {
      "cell_type": "code",
      "source": [
        "stuff = 'hello ritik'\n",
        "type(stuff)\n",
        "dir(stuff)\n",
        "['capatgalize', 'casefold', 'center', 'count', 'encode', 'endwith']\n"
      ],
      "metadata": {
        "id": "tEqnSl535w0_",
        "colab": {
          "base_uri": "https://localhost:8080/"
        },
        "outputId": "123cfb3a-afd9-4130-c261-730c6a503980"
      },
      "execution_count": null,
      "outputs": [
        {
          "output_type": "execute_result",
          "data": {
            "text/plain": [
              "['capatgalize', 'casefold', 'center', 'count', 'encode', 'endwith']"
            ]
          },
          "metadata": {},
          "execution_count": 30
        }
      ]
    },
    {
      "cell_type": "code",
      "source": [
        "import numpy as np\n",
        "arr = np.array([1,2,3,4,5,])\n",
        "print(arr)\n",
        "print(np.__version__)"
      ],
      "metadata": {
        "colab": {
          "base_uri": "https://localhost:8080/"
        },
        "id": "4YYQOItgF7V5",
        "outputId": "22a9b6c8-9e31-42aa-9139-f548e3757101"
      },
      "execution_count": null,
      "outputs": [
        {
          "output_type": "stream",
          "name": "stdout",
          "text": [
            "[1 2 3 4 5]\n",
            "2.0.2\n"
          ]
        }
      ]
    },
    {
      "cell_type": "code",
      "source": [
        "import numpy as np\n",
        "arr = np.array([[1,2,3],[4,5,6]])\n",
        "print(arr)"
      ],
      "metadata": {
        "colab": {
          "base_uri": "https://localhost:8080/"
        },
        "id": "Esv1BRZLLThz",
        "outputId": "179b34ee-bae3-4c8d-d971-562687b8e846"
      },
      "execution_count": null,
      "outputs": [
        {
          "output_type": "stream",
          "name": "stdout",
          "text": [
            "[[1 2 3]\n",
            " [4 5 6]]\n"
          ]
        }
      ]
    },
    {
      "cell_type": "code",
      "source": [
        "import numpy as np\n",
        "arr = np.array([[[1,2,3],[4,5,6]],[[7,8,9],[9,6,5]]])\n",
        "print(arr)"
      ],
      "metadata": {
        "colab": {
          "base_uri": "https://localhost:8080/"
        },
        "id": "-ryId489MGn-",
        "outputId": "f4286342-fcc9-4a26-fa05-631f4d345c7c"
      },
      "execution_count": null,
      "outputs": [
        {
          "output_type": "stream",
          "name": "stdout",
          "text": [
            "[[[1 2 3]\n",
            "  [4 5 6]]\n",
            "\n",
            " [[7 8 9]\n",
            "  [9 6 5]]]\n"
          ]
        }
      ]
    },
    {
      "cell_type": "code",
      "source": [
        "import numpy as np\n",
        "a = np.array(42)\n",
        "b = np.array([1,2,3,4,5])\n",
        "c = np.array([[1,2,3],[4,5,6]])\n",
        "d = np.array([[1,2,3],[4,5,6],[1,3,4],[7,9,8]])\n",
        "print(a.ndim)\n",
        "print(b.ndim)\n",
        "print(c.ndim)\n",
        "print(d.ndim)"
      ],
      "metadata": {
        "colab": {
          "base_uri": "https://localhost:8080/"
        },
        "id": "Hvmdjcs0NGOH",
        "outputId": "d5070b29-a3ab-469d-bd5a-1891e1fad516"
      },
      "execution_count": null,
      "outputs": [
        {
          "output_type": "stream",
          "name": "stdout",
          "text": [
            "0\n",
            "1\n",
            "2\n",
            "2\n"
          ]
        }
      ]
    },
    {
      "cell_type": "code",
      "source": [
        "arr = np.array([1,2,3,4], ndmin=5)\n",
        "print(arr)\n",
        "print('number of dimensions :', arr.ndim)"
      ],
      "metadata": {
        "colab": {
          "base_uri": "https://localhost:8080/"
        },
        "id": "-KSDuMnGOLKi",
        "outputId": "bb83b7b2-bd4a-4940-ff46-0fe031ad0c3d"
      },
      "execution_count": null,
      "outputs": [
        {
          "output_type": "stream",
          "name": "stdout",
          "text": [
            "[[[[[1 2 3 4]]]]]\n",
            "number of dimensions : 5\n"
          ]
        }
      ]
    },
    {
      "cell_type": "code",
      "source": [
        "arr1 = np.array([1,2,3,4])\n",
        "arr2 = np.array([5,6,7,8])\n",
        "arr = np.concatenate((arr1,arr2))\n",
        "print(arr)"
      ],
      "metadata": {
        "colab": {
          "base_uri": "https://localhost:8080/"
        },
        "id": "CSPuqNALPxqq",
        "outputId": "63dab8a3-e0d4-428d-cee6-16fe4f3c97fe"
      },
      "execution_count": null,
      "outputs": [
        {
          "output_type": "stream",
          "name": "stdout",
          "text": [
            "[1 2 3 4 5 6 7 8]\n"
          ]
        }
      ]
    },
    {
      "cell_type": "code",
      "source": [
        "arr = np.array([1,2,3,4,5,4])\n",
        "x = np.where(arr==4)\n",
        "print(x)"
      ],
      "metadata": {
        "colab": {
          "base_uri": "https://localhost:8080/"
        },
        "id": "3hXRoRqIRtrq",
        "outputId": "3231c4b1-02ef-4a8f-b923-b51a53a15cc0"
      },
      "execution_count": null,
      "outputs": [
        {
          "output_type": "stream",
          "name": "stdout",
          "text": [
            "(array([3, 5]),)\n"
          ]
        }
      ]
    },
    {
      "cell_type": "code",
      "source": [
        "arr = np.array(3,2,1,6)\n"
      ],
      "metadata": {
        "id": "CzY3_WJtSV2T"
      },
      "execution_count": null,
      "outputs": []
    },
    {
      "cell_type": "code",
      "source": [
        "purse = dict()\n",
        "purse['money'] = 12\n",
        "purse['candy'] = 3\n",
        "purse['tissues'] = 75\n",
        "print(purse)\n",
        "print(purse['candy'])"
      ],
      "metadata": {
        "colab": {
          "base_uri": "https://localhost:8080/"
        },
        "id": "86widq0m4cRG",
        "outputId": "1123490b-84b9-415f-c3a2-962ef033539e"
      },
      "execution_count": null,
      "outputs": [
        {
          "output_type": "stream",
          "name": "stdout",
          "text": [
            "{'money': 12, 'candy': 3, 'tissues': 75}\n",
            "3\n"
          ]
        }
      ]
    },
    {
      "cell_type": "code",
      "source": [
        "purse['candy'] = purse['candy']\n",
        "print(purse)"
      ],
      "metadata": {
        "colab": {
          "base_uri": "https://localhost:8080/"
        },
        "id": "W_kjqhTm5bTl",
        "outputId": "decbb24f-2cbc-4c1e-e287-23e45b08c355"
      },
      "execution_count": null,
      "outputs": [
        {
          "output_type": "stream",
          "name": "stdout",
          "text": [
            "{'money': 12, 'candy': 3, 'tissues': 75}\n"
          ]
        }
      ]
    },
    {
      "cell_type": "code",
      "source": [
        "import numpy as np\n",
        "from numpy import random\n",
        "import matplotlib.pyplot as plt\n",
        "import seaborn as sns\n",
        "x = random.normal(size=1000)\n",
        "x = random.normal(size=(2,3))\n",
        "x = random.normal(loc=1, scale=2, size=(2,3))\n",
        "print(x)\n",
        "sns.distplot(random.normal(size=1000),hist=False)\n",
        "plt.show()"
      ],
      "metadata": {
        "colab": {
          "base_uri": "https://localhost:8080/",
          "height": 664
        },
        "id": "_ceBujdm90OR",
        "outputId": "5549b287-1d05-4317-df3d-c251efe562de"
      },
      "execution_count": null,
      "outputs": [
        {
          "output_type": "stream",
          "name": "stdout",
          "text": [
            "[[-0.76685643  1.65533513  2.006797  ]\n",
            " [ 1.11808032 -0.21401208  0.78393564]]\n"
          ]
        },
        {
          "output_type": "stream",
          "name": "stderr",
          "text": [
            "/tmp/ipython-input-2679560584.py:9: UserWarning: \n",
            "\n",
            "`distplot` is a deprecated function and will be removed in seaborn v0.14.0.\n",
            "\n",
            "Please adapt your code to use either `displot` (a figure-level function with\n",
            "similar flexibility) or `kdeplot` (an axes-level function for kernel density plots).\n",
            "\n",
            "For a guide to updating your code to use the new functions, please see\n",
            "https://gist.github.com/mwaskom/de44147ed2974457ad6372750bbe5751\n",
            "\n",
            "  sns.distplot(random.normal(size=1000),hist=False)\n"
          ]
        },
        {
          "output_type": "display_data",
          "data": {
            "text/plain": [
              "<Figure size 640x480 with 1 Axes>"
            ],
            "image/png": "[encoded data removed]"
          },
          "metadata": {}
        }
      ]
    },
    {
      "cell_type": "code",
      "source": [
        "from numpy import random\n",
        "x = random.binomial(n=10,p=0.5,size=1000)\n",
        "print(x)"
      ],
      "metadata": {
        "colab": {
          "base_uri": "https://localhost:8080/"
        },
        "id": "aB_ywQMCEHAM",
        "outputId": "37b9d4b0-d643-45a8-cae7-09226ef9c324"
      },
      "execution_count": null,
      "outputs": [
        {
          "output_type": "stream",
          "name": "stdout",
          "text": [
            "[5 4 8 5 4 5 4 5 2 7 5 5 4 4 4 3 5 5 5 5 5 5 6 6 5 6 7 5 5 7 6 3 6 4 1 7 5\n",
            " 4 5 5 4 3 6 4 4 6 4 4 8 6 4 9 3 7 2 6 6 3 5 3 2 5 6 5 5 6 6 5 4 2 3 7 4 5\n",
            " 6 6 5 5 6 4 3 4 7 6 6 3 7 7 6 3 5 5 3 5 4 6 4 5 4 5 4 8 7 4 7 4 7 6 6 7 7\n",
            " 8 1 7 5 5 4 6 6 6 5 6 6 5 8 5 8 8 6 4 7 6 5 4 4 6 4 7 6 4 1 5 2 7 4 7 4 5\n",
            " 2 5 8 1 6 4 7 1 4 4 5 6 3 6 5 6 3 4 5 6 9 5 7 3 4 6 6 5 2 4 4 7 5 6 9 5 5\n",
            " 6 2 3 3 4 6 6 4 7 4 6 8 5 3 3 6 7 9 4 6 7 3 6 6 7 3 3 4 5 4 4 3 8 5 3 5 5\n",
            " 3 5 7 2 5 7 8 5 5 6 5 6 7 6 4 4 4 4 3 4 3 4 6 4 7 3 5 6 4 8 6 7 7 6 5 2 4\n",
            " 5 8 6 8 6 4 2 3 6 4 5 4 6 8 6 5 5 6 4 7 6 4 3 9 4 6 3 4 4 5 5 3 4 7 3 6 5\n",
            " 7 5 3 7 5 7 7 4 3 2 4 5 5 3 5 8 6 5 4 2 6 6 5 6 4 7 5 6 1 5 8 6 5 2 7 4 4\n",
            " 4 4 5 5 5 3 7 6 3 5 4 8 4 5 3 4 5 4 2 4 4 6 3 2 7 7 7 5 5 6 5 2 5 3 3 6 1\n",
            " 5 8 7 8 6 5 5 4 6 8 1 6 3 5 6 7 4 5 7 4 5 5 7 8 5 5 6 4 2 8 3 7 4 4 6 3 5\n",
            " 7 6 4 7 5 3 6 4 4 4 5 7 2 1 3 1 6 4 5 3 4 4 3 3 2 8 5 6 5 7 8 5 4 7 6 4 3\n",
            " 6 5 6 2 5 7 4 3 3 7 4 3 6 7 5 4 6 8 5 7 8 6 3 2 7 6 5 7 3 3 4 4 4 8 6 7 4\n",
            " 6 5 7 4 4 4 5 6 6 6 4 5 2 4 4 4 6 3 6 4 3 6 5 3 4 5 6 4 3 3 2 5 6 7 6 4 7\n",
            " 6 7 4 5 6 6 6 8 3 4 5 1 2 4 3 5 6 6 5 4 4 2 7 4 3 5 5 3 6 4 6 6 6 6 3 5 3\n",
            " 6 5 4 5 7 4 3 4 6 7 3 6 5 3 7 5 7 6 6 5 7 4 3 5 4 6 4 5 6 3 3 9 5 5 7 1 5\n",
            " 4 5 4 8 7 6 5 7 4 6 4 4 6 8 5 5 6 3 8 7 6 6 3 6 5 5 6 5 2 5 5 4 4 4 5 3 6\n",
            " 4 4 4 4 5 6 6 5 1 6 6 4 6 4 3 3 5 5 4 6 5 5 6 8 9 5 6 8 7 3 5 4 8 1 6 5 5\n",
            " 5 4 6 5 5 4 7 8 4 3 6 7 4 3 9 7 6 6 3 4 5 4 7 6 5 6 5 5 3 7 3 3 4 7 6 4 4\n",
            " 6 4 5 7 4 3 3 7 4 6 4 4 6 1 5 4 4 6 8 3 4 5 8 3 4 7 6 6 5 5 7 4 2 6 5 4 4\n",
            " 5 7 5 5 3 5 5 4 6 7 5 5 5 6 8 7 7 7 4 6 5 6 6 6 5 1 3 4 5 7 3 5 5 5 6 4 7\n",
            " 4 6 4 4 7 6 4 7 5 6 4 4 4 5 5 6 5 6 3 2 3 7 4 4 3 4 4 8 3 6 6 6 4 5 6 2 5\n",
            " 7 4 6 4 8 5 2 6 5 3 4 3 8 4 4 8 4 5 6 2 4 5 5 5 8 6 7 3 4 6 3 4 6 3 6 6 5\n",
            " 6 4 5 4 5 2 7 5 7 7 6 4 6 2 3 7 5 6 4 3 6 4 5 5 6 2 6 5 5 4 7 4 3 4 6 4 3\n",
            " 4 4 7 4 4 2 5 5 9 4 8 8 5 3 5 6 5 6 5 3 4 5 3 2 5 5 3 5 4 4 8 5 3 5 6 6 3\n",
            " 8 6 5 6 6 3 7 3 7 5 5 5 7 4 5 3 2 4 7 6 7 4 6 5 7 4 6 6 6 6 3 4 4 5 5 3 5\n",
            " 7 2 4 3 5 6 5 4 4 4 5 5 3 4 7 2 6 7 3 8 6 6 6 4 6 4 6 7 6 4 7 8 4 2 4 8 6\n",
            " 6]\n"
          ]
        }
      ]
    },
    {
      "cell_type": "code",
      "source": [
        "from numpy import random\n",
        "import matplotlib.pyplot as plt\n",
        "import seaborn as sns\n",
        "x = random.poisson(lam=2,size=1000)\n",
        "sns.distplot(random.binomial(n=10,p=0.5,size=1000), hist=True, kde=False)\n",
        "plt.show()"
      ],
      "metadata": {
        "colab": {
          "base_uri": "https://localhost:8080/",
          "height": 628
        },
        "id": "UBTfpITLFAOU",
        "outputId": "180252d2-990a-48ed-ee51-599c1786e0db"
      },
      "execution_count": null,
      "outputs": [
        {
          "output_type": "stream",
          "name": "stderr",
          "text": [
            "/tmp/ipython-input-2592622593.py:5: UserWarning: \n",
            "\n",
            "`distplot` is a deprecated function and will be removed in seaborn v0.14.0.\n",
            "\n",
            "Please adapt your code to use either `displot` (a figure-level function with\n",
            "similar flexibility) or `histplot` (an axes-level function for histograms).\n",
            "\n",
            "For a guide to updating your code to use the new functions, please see\n",
            "https://gist.github.com/mwaskom/de44147ed2974457ad6372750bbe5751\n",
            "\n",
            "  sns.distplot(random.binomial(n=10,p=0.5,size=1000), hist=True, kde=False)\n"
          ]
        },
        {
          "output_type": "display_data",
          "data": {
            "text/plain": [
              "<Figure size 640x480 with 1 Axes>"
            ],
            "image/png": "[encoded data removed]"
          },
          "metadata": {}
        }
      ]
    },
    {
      "cell_type": "code",
      "source": [
        "from numpy import random\n",
        "x = random.poisson(lam=2, size=(10))\n",
        "print(x)"
      ],
      "metadata": {
        "colab": {
          "base_uri": "https://localhost:8080/"
        },
        "id": "j_btKk9iFk2j",
        "outputId": "e4f43328-a46f-482d-c741-8f2a536371aa"
      },
      "execution_count": null,
      "outputs": [
        {
          "output_type": "stream",
          "name": "stdout",
          "text": [
            "[1 0 3 3 5 4 5 2 2 0]\n"
          ]
        }
      ]
    },
    {
      "cell_type": "code",
      "source": [
        "from  numpy import random\n",
        "import matplotlib.pyplot as plt\n",
        "import seaborn as sns\n",
        "sns.distplot(random.poisson(lam=2, size=(1000)), kde=True)\n",
        "plt.show()"
      ],
      "metadata": {
        "colab": {
          "base_uri": "https://localhost:8080/",
          "height": 628
        },
        "id": "k62BNiqQGeLu",
        "outputId": "7312e192-c00a-4675-e7f1-9d6d244011be"
      },
      "execution_count": null,
      "outputs": [
        {
          "output_type": "stream",
          "name": "stderr",
          "text": [
            "/tmp/ipython-input-777994042.py:4: UserWarning: \n",
            "\n",
            "`distplot` is a deprecated function and will be removed in seaborn v0.14.0.\n",
            "\n",
            "Please adapt your code to use either `displot` (a figure-level function with\n",
            "similar flexibility) or `histplot` (an axes-level function for histograms).\n",
            "\n",
            "For a guide to updating your code to use the new functions, please see\n",
            "https://gist.github.com/mwaskom/de44147ed2974457ad6372750bbe5751\n",
            "\n",
            "  sns.distplot(random.poisson(lam=2, size=(1000)), kde=True)\n"
          ]
        },
        {
          "output_type": "display_data",
          "data": {
            "text/plain": [
              "<Figure size 640x480 with 1 Axes>"
            ],
            "image/png": "[encoded data removed]"
          },
          "metadata": {}
        }
      ]
    },
    {
      "cell_type": "code",
      "source": [
        "num1_str = input(\"Enter a number 1: \")\n",
        "num2_str = input(\"Enter a number 2: \")\n",
        "\n",
        "# Convert the input strings to numbers (integers in this case)\n",
        "try:\n",
        "    num1 = int(num1_str)\n",
        "    num2 = int(num2_str)\n",
        "    c = num1 + num2\n",
        "    print(c)\n",
        "except ValueError:\n",
        "    print(\"Invalid input. Please enter valid numbers.\")"
      ],
      "metadata": {
        "colab": {
          "base_uri": "https://localhost:8080/"
        },
        "id": "874iHlzL9kDL",
        "outputId": "e4cfed04-b76b-4b6a-bb01-0a40fb72417c"
      },
      "execution_count": null,
      "outputs": [
        {
          "output_type": "stream",
          "name": "stdout",
          "text": [
            "Enter a number 1: 10\n",
            "Enter a number 2: 50\n",
            "60\n"
          ]
        }
      ]
    },
    {
      "cell_type": "code",
      "source": [
        "import pandas as pd\n",
        "print(pd.__version__)\n",
        "mydataset = {'cars':['BMW','Volvo','Ford'],'passings':[3,7,2]}\n",
        "myvar = pd.DataFrame(mydataset)\n",
        "print(myvar)"
      ],
      "metadata": {
        "colab": {
          "base_uri": "https://localhost:8080/"
        },
        "id": "KEKaDo616m02",
        "outputId": "4510ea03-997d-4c13-fd85-dd715ffc7874"
      },
      "execution_count": null,
      "outputs": [
        {
          "output_type": "stream",
          "name": "stdout",
          "text": [
            "2.2.2\n",
            "    cars  passings\n",
            "0    BMW         3\n",
            "1  Volvo         7\n",
            "2   Ford         2\n"
          ]
        }
      ]
    },
    {
      "cell_type": "code",
      "source": [
        "calories = {\"day1\": 420, \"day2\": 380, \"day3\": 390}\n",
        "myvar = pd.Series(calories)\n",
        "print(myvar)"
      ],
      "metadata": {
        "colab": {
          "base_uri": "https://localhost:8080/"
        },
        "id": "R8OH3qOF76F1",
        "outputId": "e7ca3c63-c83c-4353-89aa-86ffb83e8ac9"
      },
      "execution_count": null,
      "outputs": [
        {
          "output_type": "stream",
          "name": "stdout",
          "text": [
            "day1    420\n",
            "day2    380\n",
            "day3    390\n",
            "dtype: int64\n"
          ]
        }
      ]
    },
    {
      "cell_type": "code",
      "source": [
        "url='https://raw.githubusercontent.com/vizydrop/data-samples/master/flowers.csv'\n",
        "df=pd.read_csv(url)\n",
        "df.head()"
      ],
      "metadata": {
        "colab": {
          "base_uri": "https://localhost:8080/",
          "height": 206
        },
        "id": "S63accZ_A74V",
        "outputId": "5b8760e1-d323-4ab4-90ff-faa5b3705375"
      },
      "execution_count": null,
      "outputs": [
        {
          "output_type": "execute_result",
          "data": {
            "text/plain": [
              "   sepal length  sepal width  petal length  petal width species\n",
              "0           5.1          3.5           1.4          0.2  setosa\n",
              "1           4.9          3.0           1.4          0.2  setosa\n",
              "2           4.7          3.2           1.3          0.2  setosa\n",
              "3           4.6          3.1           1.5          0.2  setosa\n",
              "4           5.0          3.6           1.4          0.2  setosa"
            ],
            "text/html": [
              "\n",
              "  <div id=\"df-ed9fa1be-e4fe-4e6f-bb9d-4ec0a8fc0379\" class=\"colab-df-container\">\n",
              "    <div>\n",
              "<style scoped>\n",
              "    .dataframe tbody tr th:only-of-type {\n",
              "        vertical-align: middle;\n",
              "    }\n",
              "\n",
              "    .dataframe tbody tr th {\n",
              "        vertical-align: top;\n",
              "    }\n",
              "\n",
              "    .dataframe thead th {\n",
              "        text-align: right;\n",
              "    }\n",
              "</style>\n",
              "<table border=\"1\" class=\"dataframe\">\n",
              "  <thead>\n",
              "    <tr style=\"text-align: right;\">\n",
              "      <th></th>\n",
              "      <th>sepal length</th>\n",
              "      <th>sepal width</th>\n",
              "      <th>petal length</th>\n",
              "      <th>petal width</th>\n",
              "      <th>species</th>\n",
              "    </tr>\n",
              "  </thead>\n",
              "  <tbody>\n",
              "    <tr>\n",
              "      <th>0</th>\n",
              "      <td>5.1</td>\n",
              "      <td>3.5</td>\n",
              "      <td>1.4</td>\n",
              "      <td>0.2</td>\n",
              "      <td>setosa</td>\n",
              "    </tr>\n",
              "    <tr>\n",
              "      <th>1</th>\n",
              "      <td>4.9</td>\n",
              "      <td>3.0</td>\n",
              "      <td>1.4</td>\n",
              "      <td>0.2</td>\n",
              "      <td>setosa</td>\n",
              "    </tr>\n",
              "    <tr>\n",
              "      <th>2</th>\n",
              "      <td>4.7</td>\n",
              "      <td>3.2</td>\n",
              "      <td>1.3</td>\n",
              "      <td>0.2</td>\n",
              "      <td>setosa</td>\n",
              "    </tr>\n",
              "    <tr>\n",
              "      <th>3</th>\n",
              "      <td>4.6</td>\n",
              "      <td>3.1</td>\n",
              "      <td>1.5</td>\n",
              "      <td>0.2</td>\n",
              "      <td>setosa</td>\n",
              "    </tr>\n",
              "    <tr>\n",
              "      <th>4</th>\n",
              "      <td>5.0</td>\n",
              "      <td>3.6</td>\n",
              "      <td>1.4</td>\n",
              "      <td>0.2</td>\n",
              "      <td>setosa</td>\n",
              "    </tr>\n",
              "  </tbody>\n",
              "</table>\n",
              "</div>\n",
              "    <div class=\"colab-df-buttons\">\n",
              "\n",
              "  <div class=\"colab-df-container\">\n",
              "    <button class=\"colab-df-convert\" onclick=\"convertToInteractive('df-ed9fa1be-e4fe-4e6f-bb9d-4ec0a8fc0379')\"\n",
              "            title=\"Convert this dataframe to an interactive table.\"\n",
              "            style=\"display:none;\">\n",
              "\n",
              "  <svg xmlns=\"http://www.w3.org/2000/svg\" height=\"24px\" viewBox=\"0 -960 960 960\">\n",
              "    <path d=\"M120-120v-720h720v720H120Zm60-500h600v-160H180v160Zm220 220h160v-160H400v160Zm0 220h160v-160H400v160ZM180-400h160v-160H180v160Zm440 0h160v-160H620v160ZM180-180h160v-160H180v160Zm440 0h160v-160H620v160Z\"/>\n",
              "  </svg>\n",
              "    </button>\n",
              "\n",
              "  <style>\n",
              "    .colab-df-container {\n",
              "      display:flex;\n",
              "      gap: 12px;\n",
              "    }\n",
              "\n",
              "    .colab-df-convert {\n",
              "      background-color: #E8F0FE;\n",
              "      border: none;\n",
              "      border-radius: 50%;\n",
              "      cursor: pointer;\n",
              "      display: none;\n",
              "      fill: #1967D2;\n",
              "      height: 32px;\n",
              "      padding: 0 0 0 0;\n",
              "      width: 32px;\n",
              "    }\n",
              "\n",
              "    .colab-df-convert:hover {\n",
              "      background-color: #E2EBFA;\n",
              "      box-shadow: 0px 1px 2px rgba(60, 64, 67, 0.3), 0px 1px 3px 1px rgba(60, 64, 67, 0.15);\n",
              "      fill: #174EA6;\n",
              "    }\n",
              "\n",
              "    .colab-df-buttons div {\n",
              "      margin-bottom: 4px;\n",
              "    }\n",
              "\n",
              "    [theme=dark] .colab-df-convert {\n",
              "      background-color: #3B4455;\n",
              "      fill: #D2E3FC;\n",
              "    }\n",
              "\n",
              "    [theme=dark] .colab-df-convert:hover {\n",
              "      background-color: #434B5C;\n",
              "      box-shadow: 0px 1px 3px 1px rgba(0, 0, 0, 0.15);\n",
              "      filter: drop-shadow(0px 1px 2px rgba(0, 0, 0, 0.3));\n",
              "      fill: #FFFFFF;\n",
              "    }\n",
              "  </style>\n",
              "\n",
              "    <script>\n",
              "      const buttonEl =\n",
              "        document.querySelector('#df-ed9fa1be-e4fe-4e6f-bb9d-4ec0a8fc0379 button.colab-df-convert');\n",
              "      buttonEl.style.display =\n",
              "        google.colab.kernel.accessAllowed ? 'block' : 'none';\n",
              "\n",
              "      async function convertToInteractive(key) {\n",
              "        const element = document.querySelector('#df-ed9fa1be-e4fe-4e6f-bb9d-4ec0a8fc0379');\n",
              "        const dataTable =\n",
              "          await google.colab.kernel.invokeFunction('convertToInteractive',\n",
              "                                                    [key], {});\n",
              "        if (!dataTable) return;\n",
              "\n",
              "        const docLinkHtml = 'Like what you see? Visit the ' +\n",
              "          '<a target=\"_blank\" href=https://colab.research.google.com/notebooks/data_table.ipynb>data table notebook</a>'\n",
              "          + ' to learn more about interactive tables.';\n",
              "        element.innerHTML = '';\n",
              "        dataTable['output_type'] = 'display_data';\n",
              "        await google.colab.output.renderOutput(dataTable, element);\n",
              "        const docLink = document.createElement('div');\n",
              "        docLink.innerHTML = docLinkHtml;\n",
              "        element.appendChild(docLink);\n",
              "      }\n",
              "    </script>\n",
              "  </div>\n",
              "\n",
              "\n",
              "    <div id=\"df-5d0979c2-c3e1-45c0-af7a-963b7a24c8ae\">\n",
              "      <button class=\"colab-df-quickchart\" onclick=\"quickchart('df-5d0979c2-c3e1-45c0-af7a-963b7a24c8ae')\"\n",
              "                title=\"Suggest charts\"\n",
              "                style=\"display:none;\">\n",
              "\n",
              "<svg xmlns=\"http://www.w3.org/2000/svg\" height=\"24px\"viewBox=\"0 0 24 24\"\n",
              "     width=\"24px\">\n",
              "    <g>\n",
              "        <path d=\"M19 3H5c-1.1 0-2 .9-2 2v14c0 1.1.9 2 2 2h14c1.1 0 2-.9 2-2V5c0-1.1-.9-2-2-2zM9 17H7v-7h2v7zm4 0h-2V7h2v10zm4 0h-2v-4h2v4z\"/>\n",
              "    </g>\n",
              "</svg>\n",
              "      </button>\n",
              "\n",
              "<style>\n",
              "  .colab-df-quickchart {\n",
              "      --bg-color: #E8F0FE;\n",
              "      --fill-color: #1967D2;\n",
              "      --hover-bg-color: #E2EBFA;\n",
              "      --hover-fill-color: #174EA6;\n",
              "      --disabled-fill-color: #AAA;\n",
              "      --disabled-bg-color: #DDD;\n",
              "  }\n",
              "\n",
              "  [theme=dark] .colab-df-quickchart {\n",
              "      --bg-color: #3B4455;\n",
              "      --fill-color: #D2E3FC;\n",
              "      --hover-bg-color: #434B5C;\n",
              "      --hover-fill-color: #FFFFFF;\n",
              "      --disabled-bg-color: #3B4455;\n",
              "      --disabled-fill-color: #666;\n",
              "  }\n",
              "\n",
              "  .colab-df-quickchart {\n",
              "    background-color: var(--bg-color);\n",
              "    border: none;\n",
              "    border-radius: 50%;\n",
              "    cursor: pointer;\n",
              "    display: none;\n",
              "    fill: var(--fill-color);\n",
              "    height: 32px;\n",
              "    padding: 0;\n",
              "    width: 32px;\n",
              "  }\n",
              "\n",
              "  .colab-df-quickchart:hover {\n",
              "    background-color: var(--hover-bg-color);\n",
              "    box-shadow: 0 1px 2px rgba(60, 64, 67, 0.3), 0 1px 3px 1px rgba(60, 64, 67, 0.15);\n",
              "    fill: var(--button-hover-fill-color);\n",
              "  }\n",
              "\n",
              "  .colab-df-quickchart-complete:disabled,\n",
              "  .colab-df-quickchart-complete:disabled:hover {\n",
              "    background-color: var(--disabled-bg-color);\n",
              "    fill: var(--disabled-fill-color);\n",
              "    box-shadow: none;\n",
              "  }\n",
              "\n",
              "  .colab-df-spinner {\n",
              "    border: 2px solid var(--fill-color);\n",
              "    border-color: transparent;\n",
              "    border-bottom-color: var(--fill-color);\n",
              "    animation:\n",
              "      spin 1s steps(1) infinite;\n",
              "  }\n",
              "\n",
              "  @keyframes spin {\n",
              "    0% {\n",
              "      border-color: transparent;\n",
              "      border-bottom-color: var(--fill-color);\n",
              "      border-left-color: var(--fill-color);\n",
              "    }\n",
              "    20% {\n",
              "      border-color: transparent;\n",
              "      border-left-color: var(--fill-color);\n",
              "      border-top-color: var(--fill-color);\n",
              "    }\n",
              "    30% {\n",
              "      border-color: transparent;\n",
              "      border-left-color: var(--fill-color);\n",
              "      border-top-color: var(--fill-color);\n",
              "      border-right-color: var(--fill-color);\n",
              "    }\n",
              "    40% {\n",
              "      border-color: transparent;\n",
              "      border-right-color: var(--fill-color);\n",
              "      border-top-color: var(--fill-color);\n",
              "    }\n",
              "    60% {\n",
              "      border-color: transparent;\n",
              "      border-right-color: var(--fill-color);\n",
              "    }\n",
              "    80% {\n",
              "      border-color: transparent;\n",
              "      border-right-color: var(--fill-color);\n",
              "      border-bottom-color: var(--fill-color);\n",
              "    }\n",
              "    90% {\n",
              "      border-color: transparent;\n",
              "      border-bottom-color: var(--fill-color);\n",
              "    }\n",
              "  }\n",
              "</style>\n",
              "\n",
              "      <script>\n",
              "        async function quickchart(key) {\n",
              "          const quickchartButtonEl =\n",
              "            document.querySelector('#' + key + ' button');\n",
              "          quickchartButtonEl.disabled = true;  // To prevent multiple clicks.\n",
              "          quickchartButtonEl.classList.add('colab-df-spinner');\n",
              "          try {\n",
              "            const charts = await google.colab.kernel.invokeFunction(\n",
              "                'suggestCharts', [key], {});\n",
              "          } catch (error) {\n",
              "            console.error('Error during call to suggestCharts:', error);\n",
              "          }\n",
              "          quickchartButtonEl.classList.remove('colab-df-spinner');\n",
              "          quickchartButtonEl.classList.add('colab-df-quickchart-complete');\n",
              "        }\n",
              "        (() => {\n",
              "          let quickchartButtonEl =\n",
              "            document.querySelector('#df-5d0979c2-c3e1-45c0-af7a-963b7a24c8ae button');\n",
              "          quickchartButtonEl.style.display =\n",
              "            google.colab.kernel.accessAllowed ? 'block' : 'none';\n",
              "        })();\n",
              "      </script>\n",
              "    </div>\n",
              "\n",
              "    </div>\n",
              "  </div>\n"
            ],
            "application/vnd.google.colaboratory.intrinsic+json": {
              "type": "dataframe",
              "variable_name": "df",
              "summary": "{\n  \"name\": \"df\",\n  \"rows\": 150,\n  \"fields\": [\n    {\n      \"column\": \"sepal length\",\n      \"properties\": {\n        \"dtype\": \"number\",\n        \"std\": 0.8280661279778629,\n        \"min\": 4.3,\n        \"max\": 7.9,\n        \"num_unique_values\": 35,\n        \"samples\": [\n          6.2,\n          4.5,\n          5.6\n        ],\n        \"semantic_type\": \"\",\n        \"description\": \"\"\n      }\n    },\n    {\n      \"column\": \"sepal width\",\n      \"properties\": {\n        \"dtype\": \"number\",\n        \"std\": 0.435866284936698,\n        \"min\": 2.0,\n        \"max\": 4.4,\n        \"num_unique_values\": 23,\n        \"samples\": [\n          2.3,\n          4.0,\n          3.5\n        ],\n        \"semantic_type\": \"\",\n        \"description\": \"\"\n      }\n    },\n    {\n      \"column\": \"petal length\",\n      \"properties\": {\n        \"dtype\": \"number\",\n        \"std\": 1.7652982332594667,\n        \"min\": 1.0,\n        \"max\": 6.9,\n        \"num_unique_values\": 43,\n        \"samples\": [\n          6.7,\n          3.8,\n          3.7\n        ],\n        \"semantic_type\": \"\",\n        \"description\": \"\"\n      }\n    },\n    {\n      \"column\": \"petal width\",\n      \"properties\": {\n        \"dtype\": \"number\",\n        \"std\": 0.7622376689603465,\n        \"min\": 0.1,\n        \"max\": 2.5,\n        \"num_unique_values\": 22,\n        \"samples\": [\n          0.2,\n          1.2,\n          1.3\n        ],\n        \"semantic_type\": \"\",\n        \"description\": \"\"\n      }\n    },\n    {\n      \"column\": \"species\",\n      \"properties\": {\n        \"dtype\": \"category\",\n        \"num_unique_values\": 3,\n        \"samples\": [\n          \"setosa\",\n          \"versicolor\",\n          \"virginica\"\n        ],\n        \"semantic_type\": \"\",\n        \"description\": \"\"\n      }\n    }\n  ]\n}"
            }
          },
          "metadata": {},
          "execution_count": 6
        }
      ]
    },
    {
      "cell_type": "code",
      "source": [
        "count = dict()\n",
        "print('Enter a line text:')\n",
        "try:\n",
        "  line = input()\n",
        "  words = line.split()\n",
        "  print('Words:', words)\n",
        "  print('Counting...')\n",
        "  for word in words:\n",
        "    count[word] = count.get(word,0) + 1\n",
        "  print('Counts', count)\n",
        "except Exception as e:\n",
        "  print(\"An error occurred:\", e)\n"
      ],
      "metadata": {
        "colab": {
          "base_uri": "https://localhost:8080/"
        },
        "id": "GM2Dn9LOCJoJ",
        "outputId": "4adfed6c-d6e9-4873-e142-757dd2b830c5"
      },
      "execution_count": null,
      "outputs": [
        {
          "output_type": "stream",
          "name": "stdout",
          "text": [
            "Enter a line text:\n",
            "tiger is hungry\n",
            "Words: ['tiger', 'is', 'hungry']\n",
            "Counting...\n",
            "Counts {'tiger': 1, 'is': 1, 'hungry': 1}\n"
          ]
        }
      ]
    },
    {
      "cell_type": "code",
      "source": [
        "r = 0\n",
        "d = ''\n",
        "counts = {}\n",
        "\n",
        "print('Enter a line of text: ')\n",
        "line = input('')\n",
        "words = line.split()\n",
        "print('words:', words)\n",
        "\n",
        "for word in words:\n",
        "    counts[word] = counts.get(word, 0) + 1\n",
        "    try:\n",
        "        r += int(word)\n",
        "    except:\n",
        "        pass\n",
        "    d += word\n",
        "\n",
        "print('addition:', r)\n",
        "print('concat:', d)\n",
        "print('word counts:', counts)"
      ],
      "metadata": {
        "colab": {
          "base_uri": "https://localhost:8080/"
        },
        "id": "58rHHIzEGQ2F",
        "outputId": "278b1505-6872-4351-b6ee-ee7970b42d87"
      },
      "execution_count": null,
      "outputs": [
        {
          "output_type": "stream",
          "name": "stdout",
          "text": [
            "Enter a line of text: \n",
            "HEY 123 AND 345\n",
            "words: ['HEY', '123', 'AND', '345']\n",
            "addition: 468\n",
            "concat: HEY123AND345\n",
            "word counts: {'HEY': 1, '123': 1, 'AND': 1, '345': 1}\n"
          ]
        }
      ]
    },
    {
      "cell_type": "code",
      "source": [
        "r = 0\n",
        "d = ''\n",
        "counts = {}\n",
        "special_char_found = False\n",
        "\n",
        "print('Enter a line of text: ')\n",
        "line = input('')\n",
        "words = line.split()\n",
        "print('words:', words)\n",
        "\n",
        "for word in words:\n",
        "    counts[word] = counts.get(word, 0) + 1\n",
        "\n",
        "    # Try adding numbers\n",
        "    try:\n",
        "        r += int(word)\n",
        "    except:\n",
        "        pass\n",
        "\n",
        "    # Add '@' before each word in concatenation\n",
        "    d += '@' + word\n",
        "\n",
        "    # Check for special characters\n",
        "    for char in word:\n",
        "        if not char.isalnum():\n",
        "            special_char_found = True\n",
        "\n",
        "print('addition:', r)\n",
        "print('concat:', d)\n",
        "print('word counts:', counts)\n",
        "\n",
        "if not special_char_found:\n",
        "    print('No special characters found.')\n",
        "if special_char_found:\n",
        "    print('Special characters found.')"
      ],
      "metadata": {
        "colab": {
          "base_uri": "https://localhost:8080/"
        },
        "id": "HuHwbhITJyip",
        "outputId": "edff0302-5c78-4d36-faa5-83042ca0a941"
      },
      "execution_count": null,
      "outputs": [
        {
          "output_type": "stream",
          "name": "stdout",
          "text": [
            "Enter a line of text: \n",
            "hello my roll no @123 and yours 345\n",
            "words: ['hello', 'my', 'roll', 'no', '@123', 'and', 'yours', '345']\n",
            "addition: 345\n",
            "concat: @hello@my@roll@no@@123@and@yours@345\n",
            "word counts: {'hello': 1, 'my': 1, 'roll': 1, 'no': 1, '@123': 1, 'and': 1, 'yours': 1, '345': 1}\n",
            "Special characters found.\n"
          ]
        }
      ]
    },
    {
      "cell_type": "code",
      "source": [
        "r = 0\n",
        "d = ''\n",
        "counts = {}\n",
        "special_char_found = False\n",
        "\n",
        "print('Enter a line of text: ')\n",
        "line = input('')\n",
        "words = line.split()\n",
        "print('words:', words)\n",
        "\n",
        "for word in words:\n",
        "    # Count word frequency\n",
        "    counts[word] = counts.get(word, 0) + 1\n",
        "\n",
        "    # Try adding numbers\n",
        "    try:\n",
        "        r += int(word)\n",
        "    except:\n",
        "        pass\n",
        "\n",
        "    # Add '@' before each word in concatenation\n",
        "    d += '@' + word\n",
        "\n",
        "    # Check for special characters\n",
        "    for char in word:\n",
        "        if not char.isalnum():\n",
        "            special_char_found = True\n",
        "\n",
        "print('addition:', r)\n",
        "print('concat:', d)\n",
        "print('word counts:', counts)\n",
        "\n",
        "if not special_char_found:\n",
        "    print('No special characters found.')\n"
      ],
      "metadata": {
        "colab": {
          "base_uri": "https://localhost:8080/"
        },
        "id": "j1xjxC9hK62A",
        "outputId": "4501953f-0aa0-4baf-bf81-35a2baba05a4"
      },
      "execution_count": null,
      "outputs": [
        {
          "output_type": "stream",
          "name": "stdout",
          "text": [
            "Enter a line of text: \n",
            "hello 123 and 456\n",
            "words: ['hello', '123', 'and', '456']\n",
            "addition: 579\n",
            "concat: @hello@123@and@456\n",
            "word counts: {'hello': 1, '123': 1, 'and': 1, '456': 1}\n",
            "No special characters found.\n"
          ]
        }
      ]
    }
  ]
}